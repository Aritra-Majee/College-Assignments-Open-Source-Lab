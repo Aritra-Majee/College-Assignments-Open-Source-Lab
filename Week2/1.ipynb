{
 "cells": [
  {
   "cell_type": "code",
   "execution_count": null,
   "id": "049e4114",
   "metadata": {},
   "outputs": [
    {
     "name": "stdout",
     "output_type": "stream",
     "text": [
      "apple\n",
      "orange\n",
      "mango\n",
      "banana\n",
      "strawberry\n",
      "First Fruit :  apple\n",
      "Last Fruit :  strawberry\n",
      "Middle Fruits :  ['orange', 'mango', 'banana', 'strawberry']\n"
     ]
    }
   ],
   "source": [
    "# Q1\n",
    "fruits = [\"apple\", \"orange\", \"mango\", \"banana\", \"strawberry\"]\n",
    "for fruit in fruits :\n",
    "    print(fruit)\n",
    "print(\"First Fruit : \", fruits[0])\n",
    "print(\"Last Fruit : \", fruits[-1])\n",
    "\n",
    "middle_fruits = fruits[1 : ]\n",
    "print(\"Middle Fruits : \", middle_fruits)\n",
    "\n"
   ]
  },
  {
   "cell_type": "code",
   "execution_count": null,
   "id": "4a5da435",
   "metadata": {},
   "outputs": [
    {
     "name": "stdout",
     "output_type": "stream",
     "text": [
      "Age of Bob is 21\n",
      "Updated List :  {'Bob': 21, 'Beck': 19, 'Buck': 25, 'Beth': 16, 'Bruce': 45, 'Bella': 55}\n"
     ]
    }
   ],
   "source": [
    "#Q2\n",
    "student_ages = {\n",
    "    \"Bob\" : 21,\n",
    "    \"Beck\" : 19,\n",
    "    \"Buck\" : 25,\n",
    "    \"Beth\" : 16,\n",
    "    \"Bruce\" : 45\n",
    "}\n",
    "\n",
    "stud_name = \"Bob\"\n",
    "print(f\"Age of {stud_name} is {student_ages[stud_name]}\")\n",
    "\n",
    "student_ages[\"Bella\"] = 55\n",
    "\n",
    "# for stud in student_ages : \n",
    "#     print(f\"{stud} : {student_ages[stud]}\")\n",
    "\n",
    "print(\"Updated List : \", student_ages)"
   ]
  },
  {
   "cell_type": "code",
   "execution_count": null,
   "id": "10c285b7",
   "metadata": {},
   "outputs": [
    {
     "name": "stdout",
     "output_type": "stream",
     "text": [
      "Duplicates List :  [1, 4, 6]\n"
     ]
    }
   ],
   "source": [
    "#Q3\n",
    "def duplicates(numbers):\n",
    "    count = {}\n",
    "    duplicate = []\n",
    "\n",
    "    for num in numbers :\n",
    "        if num in count :\n",
    "            count[num]+=1\n",
    "        else :\n",
    "            count[num] = 1\n",
    "    \n",
    "    for num in count : \n",
    "        if count[num] > 1 :\n",
    "            duplicate.append(num)\n",
    "    \n",
    "    return duplicate\n",
    "\n",
    "numbers = [1,1,2,4,4,6,6,6,7,8,9,10]\n",
    "print(\"Duplicates List : \", duplicates(numbers))"
   ]
  },
  {
   "cell_type": "code",
   "execution_count": null,
   "id": "9fa82d0a",
   "metadata": {},
   "outputs": [
    {
     "name": "stdout",
     "output_type": "stream",
     "text": [
      "[[1, 2, 3], [4, 5, 6], [7, 8, 9], [10]]\n"
     ]
    }
   ],
   "source": [
    "#Q4\n",
    "def group(list,size) : \n",
    "    grouped_list = []\n",
    "    for i in range (0,len(list),size) : \n",
    "        grouped_list.append(list[i : i+size])\n",
    "    \n",
    "    return grouped_list\n",
    "\n",
    "list = [1,2,3,4,5,6,7,8,9,10]\n",
    "size = 3\n",
    "\n",
    "print(group(list,size))"
   ]
  },
  {
   "cell_type": "code",
   "execution_count": 27,
   "id": "11d42923",
   "metadata": {},
   "outputs": [
    {
     "name": "stdout",
     "output_type": "stream",
     "text": [
      "['apple', 'mango', 'orange', 'banana', 'strawberry']\n",
      "Sorted by Extension: ['photo.jpg', 'document.pdf', 'image.png', 'file1.txt', 'notes.txt']\n"
     ]
    }
   ],
   "source": [
    "#Q5\n",
    "def lensort(list) :\n",
    "    return sorted(list, key = len)\n",
    "\n",
    "def extsort(list) :\n",
    "    return sorted(list, key = lambda x: x.split('.')[-1])\n",
    "\n",
    "list = [\"apple\", \"orange\", \"mango\", \"banana\", \"strawberry\"]\n",
    "print(lensort(list))\n",
    "\n",
    "files_list = [\"file1.txt\", \"image.png\", \"document.pdf\", \"photo.jpg\", \"notes.txt\"]\n",
    "print(\"Sorted by Extension:\", extsort(files_list))"
   ]
  },
  {
   "cell_type": "code",
   "execution_count": 34,
   "id": "fa4098fd",
   "metadata": {},
   "outputs": [
    {
     "name": "stdout",
     "output_type": "stream",
     "text": [
      "This is Line 1\n",
      "This is Line 2\n",
      "This is Line 3\n",
      "\n",
      "This is Line 1\n",
      "This is Line 2\n",
      "This is Line 3\n"
     ]
    }
   ],
   "source": [
    "#6\n",
    "with open(\"example.txt\",'w') as file :\n",
    "    file.write(\"This is Line 1\\n\")\n",
    "    line = [\"This is Line 2\\n\",\"This is Line 3\\n\"]\n",
    "    file.writelines(line)\n",
    "\n",
    "with open(\"example.txt\",'r') as file :\n",
    "    content = file.read()\n",
    "    print(content)\n",
    "\n",
    "with open(\"example.txt\",'r') as file :\n",
    "    fileLines = file.readlines()\n",
    "    for line in fileLines :\n",
    "        print(line,end='')"
   ]
  },
  {
   "cell_type": "code",
   "execution_count": 8,
   "id": "7012f670",
   "metadata": {},
   "outputs": [
    {
     "name": "stdout",
     "output_type": "stream",
     "text": [
      "Line Count = 3 \n",
      "Word Count = 12 \n",
      "Character Count = 45\n"
     ]
    }
   ],
   "source": [
    "#7\n",
    "\n",
    "def f() :\n",
    "    file = open(\"example.txt\",\"r\")\n",
    "    content = file.readlines()\n",
    "    file.close()\n",
    "\n",
    "    line_count = 0\n",
    "    word_count = 0\n",
    "    char_count = 0\n",
    "\n",
    "    for line in content :\n",
    "        line_count += 1\n",
    "        char_count += len(line)\n",
    "        word_count += len(line.split())\n",
    "\n",
    "    return line_count, word_count, char_count\n",
    "\n",
    "lines, words, chars = f()\n",
    "print(\"Line Count =\", lines,\"\\nWord Count =\", words,\"\\nCharacter Count =\", chars)\n"
   ]
  },
  {
   "cell_type": "code",
   "execution_count": null,
   "id": "32128e51",
   "metadata": {},
   "outputs": [
    {
     "name": "stdout",
     "output_type": "stream",
     "text": [
      "This is Line 3\n",
      "\n",
      "This is Line 2\n",
      "\n",
      "This is Line 1\n",
      "\n"
     ]
    }
   ],
   "source": [
    "#8\n",
    "\n",
    "def f() :\n",
    "    file = open(\"example.txt\",\"r\")\n",
    "    lines = file.readlines()\n",
    "    file.close()\n",
    "\n",
    "    for line in reversed(lines) :\n",
    "        print(line)\n",
    "\n",
    "f()"
   ]
  },
  {
   "cell_type": "code",
   "execution_count": 13,
   "id": "fafad7fb",
   "metadata": {},
   "outputs": [
    {
     "name": "stdout",
     "output_type": "stream",
     "text": [
      "1 eniL si sihT\n",
      "2 eniL si sihT\n",
      "3 eniL si sihT\n",
      "saicarG aloH\n"
     ]
    }
   ],
   "source": [
    "#9\n",
    "\n",
    "def f() :\n",
    "    file = open(\"example.txt\",\"r\")\n",
    "    lines = file.readlines()\n",
    "    file.close()\n",
    "\n",
    "    for line in lines :\n",
    "        # line = line.strip('\\n')\n",
    "        # print(line[::-1])\n",
    "        reversed_line = \"\"\n",
    "\n",
    "        for char in line :\n",
    "            if char != '\\n' :\n",
    "                reversed_line = char + reversed_line\n",
    "        print(reversed_line)\n",
    "\n",
    "\n",
    "f()"
   ]
  },
  {
   "cell_type": "code",
   "execution_count": 18,
   "id": "4b7b7098",
   "metadata": {},
   "outputs": [
    {
     "name": "stdout",
     "output_type": "stream",
     "text": [
      "This is Line 1\n",
      "This is Line 2\n",
      "This is    Line\n",
      " 3 and make it \n",
      "long\n",
      "Hola Gracias\n"
     ]
    }
   ],
   "source": [
    "#10\n",
    "\n",
    "def f() :\n",
    "    file = open(\"example.txt\",\"r\")\n",
    "    lines = file.readlines()\n",
    "    file.close()\n",
    "    width = 15\n",
    "\n",
    "    for line in lines :\n",
    "\n",
    "        line = line.rstrip(\"\\n\")\n",
    "        for i in range(0,len(line),width) :\n",
    "            print(line[i : i+width])\n",
    "\n",
    "\n",
    "f()"
   ]
  }
 ],
 "metadata": {
  "kernelspec": {
   "display_name": "Python 3",
   "language": "python",
   "name": "python3"
  },
  "language_info": {
   "codemirror_mode": {
    "name": "ipython",
    "version": 3
   },
   "file_extension": ".py",
   "mimetype": "text/x-python",
   "name": "python",
   "nbconvert_exporter": "python",
   "pygments_lexer": "ipython3",
   "version": "3.12.1"
  }
 },
 "nbformat": 4,
 "nbformat_minor": 5
}
