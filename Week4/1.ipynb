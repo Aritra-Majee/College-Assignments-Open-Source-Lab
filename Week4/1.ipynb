{
 "cells": [
  {
   "cell_type": "code",
   "execution_count": null,
   "id": "af719aaf",
   "metadata": {},
   "outputs": [
    {
     "name": "stdout",
     "output_type": "stream",
     "text": [
      "Values :  [1 2 3 4 5]\n",
      "Counts :  [1 2 1 3 1]\n"
     ]
    }
   ],
   "source": [
    "import numpy as np\n",
    "\n",
    "input_nums = input(\"Enter numbers\")\n",
    "nums = []\n",
    "print(input_nums)\n",
    "for i in input_nums.split():\n",
    "    temp = int(i)\n",
    "    nums.append(temp)\n",
    "\n",
    "values,count = np.unique(nums, return_counts = True)\n",
    "print(\"Values : \", values)\n",
    "print(\"Counts : \",count)"
   ]
  },
  {
   "cell_type": "code",
   "execution_count": 29,
   "id": "34bcfa5b",
   "metadata": {},
   "outputs": [
    {
     "name": "stdout",
     "output_type": "stream",
     "text": [
      "[1 0 1 4]\n",
      "110\n",
      "[False False False  True]\n"
     ]
    }
   ],
   "source": [
    "import numpy as np\n",
    "\n",
    "input_nums = input(\"Enter numbers\")\n",
    "array = np.array(input_nums.split(), dtype=int)\n",
    "\n",
    "print(array)\n",
    "\n",
    "count_ones = np.sum(array == 1)\n",
    "count_zeroes = np.sum(array == 0)\n",
    "\n",
    "output = '1'*count_ones + '0'*count_zeroes\n",
    "print(output)\n",
    "print(array==4)"
   ]
  },
  {
   "cell_type": "code",
   "execution_count": 30,
   "id": "67ec0839",
   "metadata": {},
   "outputs": [
    {
     "name": "stdout",
     "output_type": "stream",
     "text": [
      "Result: ABDEF\n"
     ]
    }
   ],
   "source": [
    "import numpy as np\n",
    "\n",
    "text = input(\"Enter a string: \")\n",
    "n = int(input(\"Enter the index to remove: \"))\n",
    "\n",
    "# Convert string to NumPy array of characters\n",
    "char_array = np.array(list(text))\n",
    "\n",
    "# Remove the character at index n using np.delete\n",
    "new_array = np.delete(char_array, n)\n",
    "\n",
    "# Join back into a string\n",
    "new_text = ''.join(new_array)\n",
    "\n",
    "print(\"Result:\", new_text)\n"
   ]
  },
  {
   "cell_type": "code",
   "execution_count": 31,
   "id": "c06417a0",
   "metadata": {},
   "outputs": [
    {
     "name": "stdout",
     "output_type": "stream",
     "text": [
      "[[1. 1. 1. 1. 1. 1. 1. 1. 1. 1.]\n",
      " [1. 0. 0. 0. 0. 0. 0. 0. 0. 1.]\n",
      " [1. 0. 0. 0. 0. 0. 0. 0. 0. 1.]\n",
      " [1. 0. 0. 0. 0. 0. 0. 0. 0. 1.]\n",
      " [1. 0. 0. 0. 0. 0. 0. 0. 0. 1.]\n",
      " [1. 0. 0. 0. 0. 0. 0. 0. 0. 1.]\n",
      " [1. 0. 0. 0. 0. 0. 0. 0. 0. 1.]\n",
      " [1. 0. 0. 0. 0. 0. 0. 0. 0. 1.]\n",
      " [1. 0. 0. 0. 0. 0. 0. 0. 0. 1.]\n",
      " [1. 1. 1. 1. 1. 1. 1. 1. 1. 1.]]\n"
     ]
    }
   ],
   "source": [
    "import numpy as np\n",
    "\n",
    "Z = np.ones((10,10))\n",
    "Z[1:-1,1:-1] = 0\n",
    "print(Z)"
   ]
  }
 ],
 "metadata": {
  "kernelspec": {
   "display_name": "Python 3",
   "language": "python",
   "name": "python3"
  },
  "language_info": {
   "codemirror_mode": {
    "name": "ipython",
    "version": 3
   },
   "file_extension": ".py",
   "mimetype": "text/x-python",
   "name": "python",
   "nbconvert_exporter": "python",
   "pygments_lexer": "ipython3",
   "version": "3.12.1"
  }
 },
 "nbformat": 4,
 "nbformat_minor": 5
}
